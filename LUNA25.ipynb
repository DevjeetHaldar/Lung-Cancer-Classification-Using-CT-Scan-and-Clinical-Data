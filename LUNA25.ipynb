{
  "nbformat": 4,
  "nbformat_minor": 0,
  "metadata": {
    "colab": {
      "provenance": [],
      "gpuType": "T4"
    },
    "kernelspec": {
      "name": "python3",
      "display_name": "Python 3"
    },
    "language_info": {
      "name": "python"
    },
    "accelerator": "GPU"
  },
  "cells": [
    {
      "cell_type": "code",
      "execution_count": null,
      "metadata": {
        "colab": {
          "base_uri": "https://localhost:8080/"
        },
        "id": "1ehIaqV3CP51",
        "outputId": "7d3f2b61-6d25-4ab6-b5a4-92f3d0bd40dc"
      },
      "outputs": [
        {
          "output_type": "stream",
          "name": "stdout",
          "text": [
            "Mounted at /content/drive\n"
          ]
        }
      ],
      "source": [
        "from google.colab import drive\n",
        "drive.mount('/content/drive')\n"
      ]
    },
    {
      "cell_type": "code",
      "source": [
        "import zipfile\n",
        "import os\n",
        "\n",
        "zip_path = '/content/drive/MyDrive/LUNA25/Preprocessed_train.zip'\n",
        "extract_dir = '/content/Preprocessed_train'\n",
        "\n",
        "if not os.path.exists(extract_dir):\n",
        "    print(\"Extracting zip...\")\n",
        "    with zipfile.ZipFile(zip_path, 'r') as zip_ref:\n",
        "        zip_ref.extractall(extract_dir)\n",
        "else:\n",
        "    print(\"Already extracted!\")\n"
      ],
      "metadata": {
        "colab": {
          "base_uri": "https://localhost:8080/"
        },
        "id": "EC7dxshhCksl",
        "outputId": "e93bf675-877e-4f80-d917-3f12eedcae18"
      },
      "execution_count": null,
      "outputs": [
        {
          "output_type": "stream",
          "name": "stdout",
          "text": [
            "Extracting zip...\n"
          ]
        }
      ]
    },
    {
      "cell_type": "code",
      "source": [
        "zip_path = '/content/drive/MyDrive/LUNA25/Preprocessed_test.zip'\n",
        "extract_dir = '/content/Preprocessed_test'\n",
        "\n",
        "if not os.path.exists(extract_dir):\n",
        "    print(\"Extracting zip...\")\n",
        "    with zipfile.ZipFile(zip_path, 'r') as zip_ref:\n",
        "        zip_ref.extractall(extract_dir)\n",
        "else:\n",
        "    print(\"Already extracted!\")"
      ],
      "metadata": {
        "colab": {
          "base_uri": "https://localhost:8080/"
        },
        "id": "7izzBBRCvy6T",
        "outputId": "8fc07441-c73b-4f03-eae5-3843b0062ed5"
      },
      "execution_count": null,
      "outputs": [
        {
          "output_type": "stream",
          "name": "stdout",
          "text": [
            "Extracting zip...\n"
          ]
        }
      ]
    },
    {
      "cell_type": "code",
      "source": [
        "import os\n",
        "import numpy as np\n",
        "import torch\n",
        "from torch.utils.data import Dataset, DataLoader\n",
        "import pandas as pd\n",
        "import matplotlib.pyplot as plt\n",
        "\n",
        "from sklearn.metrics import roc_auc_score, confusion_matrix\n",
        "import torch.nn.functional as F\n",
        "import torch.nn as nn\n",
        "\n",
        "\n",
        "from torch.utils.data import DataLoader, WeightedRandomSampler\n",
        "from torch.utils.data import random_split\n",
        "from collections import Counter"
      ],
      "metadata": {
        "id": "wYZtiFAiEWbP"
      },
      "execution_count": null,
      "outputs": []
    },
    {
      "cell_type": "code",
      "source": [
        "# Use GPU if available\n",
        "device = torch.device(\"cuda\" if torch.cuda.is_available() else \"cpu\")\n",
        "print(\"Using device:\", device)\n"
      ],
      "metadata": {
        "colab": {
          "base_uri": "https://localhost:8080/"
        },
        "id": "Dc3dRQIdTlX5",
        "outputId": "f2a51125-e72d-4378-b91d-967a1db06965"
      },
      "execution_count": null,
      "outputs": [
        {
          "output_type": "stream",
          "name": "stdout",
          "text": [
            "Using device: cpu\n"
          ]
        }
      ]
    },
    {
      "cell_type": "code",
      "source": [
        "### mulit model"
      ],
      "metadata": {
        "id": "ojPdWI3eSBhv"
      },
      "execution_count": null,
      "outputs": []
    },
    {
      "cell_type": "code",
      "source": [
        "import os\n",
        "import pandas as pd\n",
        "import numpy as np\n",
        "import torch\n",
        "from torch.utils.data import Dataset\n",
        "\n",
        "class MultiModalNPYDataset(Dataset):\n",
        "    def __init__(self, csv_file, image_dir):\n",
        "        self.df = pd.read_csv(csv_file)\n",
        "        self.image_dir = image_dir\n",
        "\n",
        "        # Gender encoding\n",
        "        self.df['Gender'] = self.df['Gender'].map({'Male': 0, 'Female': 1})\n",
        "\n",
        "    def __len__(self):\n",
        "        return len(self.df)\n",
        "\n",
        "    def __getitem__(self, idx):\n",
        "        row = self.df.iloc[idx]\n",
        "        file_name = row['AnnotationID'] + '.npy'\n",
        "        img_path = os.path.join(self.image_dir, file_name)\n",
        "\n",
        "        # Image\n",
        "        image = np.load(img_path)  # (4, 128, 128)\n",
        "        image = torch.from_numpy(image).float()\n",
        "\n",
        "        # Tabular features (now 8)\n",
        "        tabular = torch.tensor([\n",
        "            row['Age_at_StudyDate'],\n",
        "            row['Gender'],\n",
        "            row['CoordX'],\n",
        "            row['CoordY'],\n",
        "            row['CoordZ'],\n",
        "            row['origin_x'],\n",
        "            row['origin_y'],\n",
        "            row['origin_z']\n",
        "        ], dtype=torch.float32)\n",
        "\n",
        "        label = torch.tensor(row['label'], dtype=torch.long)\n",
        "\n",
        "        return image, tabular, label\n"
      ],
      "metadata": {
        "id": "4QecIA4mUJwo"
      },
      "execution_count": null,
      "outputs": []
    },
    {
      "cell_type": "code",
      "source": [
        "import torch\n",
        "import torch.nn as nn\n",
        "\n",
        "class MultiModalClassifier(nn.Module):\n",
        "    def __init__(self):\n",
        "        super(MultiModalClassifier, self).__init__()\n",
        "\n",
        "        # CNN with kernel size 5 and base channels = 8\n",
        "        self.cnn = nn.Sequential(\n",
        "            nn.Conv2d(4, 8, kernel_size=5, padding=2),   # (4, 128, 128) -> (8, 128, 128)\n",
        "            nn.ReLU(),\n",
        "            nn.MaxPool2d(kernel_size=2),                 # -> (8, 64, 64)\n",
        "            nn.BatchNorm2d(8),                           # Batch Normalization\n",
        "\n",
        "            nn.Conv2d(8, 16, kernel_size=5, padding=2),  # -> (16, 64, 64)\n",
        "            nn.ReLU(),\n",
        "            nn.MaxPool2d(kernel_size=2),                 # -> (16, 32, 32)\n",
        "            nn.BatchNorm2d(16),                          # Batch Normalization\n",
        "\n",
        "            nn.Conv2d(16, 32, kernel_size=5, padding=2), # -> (32, 32, 32)\n",
        "            nn.ReLU(),\n",
        "            nn.MaxPool2d(kernel_size=2),                 # -> (32, 16, 16)\n",
        "            nn.BatchNorm2d(32),                          # Batch Normalization\n",
        "        )\n",
        "\n",
        "        self.cnn_out_dim = 32 * 16 * 16  # = 8192\n",
        "\n",
        "        self.cnn_fc = nn.Sequential(\n",
        "            nn.Flatten(),\n",
        "            nn.Linear(self.cnn_out_dim, 256),\n",
        "            nn.ReLU(),\n",
        "            nn.Dropout(0.5),  # Increased Dropout Rate\n",
        "            nn.Linear(256, 64),\n",
        "            nn.ReLU(),\n",
        "            nn.Dropout(0.5),  # Increased Dropout Rate\n",
        "            nn.Linear(64, 32),\n",
        "            nn.ReLU(),\n",
        "            nn.Dropout(0.5),  # Increased Dropout Rate\n",
        "        )\n",
        "\n",
        "        # Tabular path\n",
        "        self.tabular_net = nn.Sequential(\n",
        "            nn.Linear(8, 16),\n",
        "            nn.ReLU(),\n",
        "            nn.Dropout(0.3),  # Increased Dropout Rate\n",
        "            nn.Linear(16, 16),\n",
        "            nn.ReLU(),\n",
        "            nn.Dropout(0.3),  # Increased Dropout Rate\n",
        "        )\n",
        "\n",
        "        # Final classifier\n",
        "        self.classifier = nn.Sequential(\n",
        "            nn.Linear(32 + 16, 32),\n",
        "            nn.ReLU(),\n",
        "            nn.Dropout(0.5),  # Increased Dropout Rate\n",
        "            nn.Linear(32, 2)\n",
        "        )\n",
        "\n",
        "    def forward(self, image, tabular):\n",
        "        img_feat = self.cnn(image)\n",
        "        img_feat = self.cnn_fc(img_feat)\n",
        "\n",
        "        tab_feat = self.tabular_net(tabular)\n",
        "\n",
        "        combined = torch.cat((img_feat, tab_feat), dim=1)\n",
        "        return self.classifier(combined)\n",
        "\n",
        "\n",
        "# Optimizer with L2 regularization (weight decay)\n",
        "#optimizer = torch.optim.Adam(model.parameters(), lr=1e-4, weight_decay=1e-5)  # Added L2 regularization\n"
      ],
      "metadata": {
        "id": "bYnABPn9UKi3"
      },
      "execution_count": null,
      "outputs": []
    },
    {
      "cell_type": "code",
      "source": [
        "# Load full dataset\n",
        "full_dataset = MultiModalNPYDataset(\n",
        "    csv_file='/content/drive/MyDrive/LUNA25/Train.csv',\n",
        "    image_dir='/content/Preprocessed_train'\n",
        ")\n",
        "\n",
        "# Split\n",
        "train_size = int(0.8 * len(full_dataset))\n",
        "val_size = len(full_dataset) - train_size\n",
        "train_dataset, val_dataset = random_split(full_dataset, [train_size, val_size])\n",
        "\n",
        "# Balanced Sampling\n",
        "labels_list = [sample[2].item() for sample in train_dataset]\n",
        "class_counts = Counter(labels_list)\n",
        "weights = [1.0 / class_counts[label] for label in labels_list]\n",
        "sampler = WeightedRandomSampler(weights, num_samples=len(weights), replacement=False)\n",
        "\n",
        "# Loaders\n",
        "train_loader = DataLoader(train_dataset, batch_size=4, sampler=sampler)\n",
        "val_loader = DataLoader(val_dataset, batch_size=32, shuffle=False)\n"
      ],
      "metadata": {
        "id": "IUPBQkPwUrZi"
      },
      "execution_count": null,
      "outputs": []
    },
    {
      "cell_type": "code",
      "source": [],
      "metadata": {
        "id": "CQruUc_HEZvE"
      },
      "execution_count": null,
      "outputs": []
    },
    {
      "cell_type": "code",
      "source": [
        "from collections import Counter\n",
        "import matplotlib.pyplot as plt\n",
        "\n",
        "# Accumulate labels from train_loader\n",
        "all_labels = []\n",
        "\n",
        "for image, tabular, labels in train_loader:\n",
        "    all_labels.extend(labels.tolist())\n",
        "\n",
        "# Count class distribution\n",
        "class_distribution = Counter(all_labels)\n",
        "\n",
        "# Print class-wise counts\n",
        "print(\"Class Distribution in Train Loader:\")\n",
        "for cls in sorted(class_distribution.keys()):\n",
        "    print(f\"  Class {cls}: {class_distribution[cls]} samples\")\n",
        "\n",
        "# Plotting\n",
        "plt.figure(figsize=(6, 4))\n",
        "plt.bar(class_distribution.keys(), class_distribution.values(), color='skyblue')\n",
        "plt.xticks(list(class_distribution.keys()))\n",
        "plt.xlabel('Class')\n",
        "plt.ylabel('Number of Samples')\n",
        "plt.title('Train Loader Class Distribution')\n",
        "plt.grid(axis='y', linestyle='--', alpha=0.6)\n",
        "plt.tight_layout()\n",
        "plt.show()\n"
      ],
      "metadata": {
        "id": "GHQl1M_lUwiX",
        "colab": {
          "base_uri": "https://localhost:8080/",
          "height": 462
        },
        "outputId": "3ffbe5dc-9db8-439c-fa13-2a9077731091"
      },
      "execution_count": null,
      "outputs": [
        {
          "output_type": "stream",
          "name": "stdout",
          "text": [
            "Class Distribution in Train Loader:\n",
            "  Class 0: 3136 samples\n",
            "  Class 1: 285 samples\n"
          ]
        },
        {
          "output_type": "display_data",
          "data": {
            "text/plain": [
              "<Figure size 600x400 with 1 Axes>"
            ],
            "image/png": "[encoded data removed]"
          },
          "metadata": {}
        }
      ]
    },
    {
      "cell_type": "code",
      "source": [
        "model = MultiModalClassifier().to(device)\n",
        "criterion = nn.CrossEntropyLoss()\n",
        "optimizer = torch.optim.Adam(model.parameters(), lr=0.001)\n",
        "\n",
        "train_losses, val_losses, train_aucs, val_aucs = [], [], [], []\n",
        "best_val_auc = 0.0  # Keep track of best AUC\n",
        "\n",
        "for epoch in range(1, 6):\n",
        "    # === TRAIN ===\n",
        "    model.train()\n",
        "    epoch_loss = 0\n",
        "    all_probs, all_labels = [], []\n",
        "\n",
        "    for images, metadata, labels in train_loader:\n",
        "        images, metadata, labels = images.to(device), metadata.to(device), labels.to(device)\n",
        "        optimizer.zero_grad()\n",
        "        outputs = model(images, metadata)\n",
        "        loss = criterion(outputs, labels)\n",
        "        loss.backward()\n",
        "        optimizer.step()\n",
        "\n",
        "        epoch_loss += loss.item()\n",
        "\n",
        "        probs = torch.softmax(outputs, dim=1)[:, 1]\n",
        "        all_probs.extend(probs.detach().cpu().numpy())\n",
        "        all_labels.extend(labels.cpu().numpy())\n",
        "\n",
        "    train_auc = roc_auc_score(all_labels, all_probs)\n",
        "    train_losses.append(epoch_loss / len(train_loader))\n",
        "    train_aucs.append(train_auc)\n",
        "\n",
        "    print(f\"Epoch {epoch} | Train Loss: {epoch_loss / len(train_loader):.4f} | Train AUC: {train_auc:.4f}\")\n",
        "\n",
        "    # === VALIDATION ===\n",
        "    model.eval()\n",
        "    val_loss = 0\n",
        "    val_probs, val_preds, val_labels = [], [], []\n",
        "\n",
        "    with torch.no_grad():\n",
        "        for images, metadata, labels in val_loader:\n",
        "            images, metadata, labels = images.to(device), metadata.to(device), labels.to(device)\n",
        "            outputs = model(images, metadata)\n",
        "            loss = criterion(outputs, labels)\n",
        "            val_loss += loss.item()\n",
        "\n",
        "            probs = torch.softmax(outputs, dim=1)[:, 1]\n",
        "            _, preds = torch.max(outputs, 1)\n",
        "\n",
        "            val_probs.extend(probs.cpu().numpy())\n",
        "            val_preds.extend(preds.cpu().numpy())\n",
        "            val_labels.extend(labels.cpu().numpy())\n",
        "\n",
        "    val_auc = roc_auc_score(val_labels, val_probs)\n",
        "    val_losses.append(val_loss / len(val_loader))\n",
        "    val_aucs.append(val_auc)\n",
        "\n",
        "    print(f\"Val Loss: {val_loss / len(val_loader):.4f} | Val AUC: {val_auc:.4f}\")\n",
        "    # print(\"Confusion Matrix (Val):\")\n",
        "    # print(confusion_matrix(val_labels, val_preds))\n",
        "     # Save best model\n",
        "    if val_auc > best_val_auc:\n",
        "        best_val_auc = val_auc\n",
        "        torch.save(model.state_dict(), \"best_model.pth\")\n"
      ],
      "metadata": {
        "colab": {
          "base_uri": "https://localhost:8080/"
        },
        "id": "zADGDOudUPGG",
        "outputId": "339d1fbf-1bf6-4b18-880b-6e84c37ac5a7"
      },
      "execution_count": null,
      "outputs": [
        {
          "output_type": "stream",
          "name": "stdout",
          "text": [
            "Epoch 1 | Train Loss: 0.9220 | Train AUC: 0.7590\n",
            "Val Loss: 1.0454 | Val AUC: 0.6092\n",
            "Epoch 2 | Train Loss: 0.3473 | Train AUC: 0.8078\n",
            "Val Loss: 1.2834 | Val AUC: 0.4879\n",
            "Epoch 3 | Train Loss: 0.2968 | Train AUC: 0.8257\n",
            "Val Loss: 1.1423 | Val AUC: 0.5754\n",
            "Epoch 4 | Train Loss: 0.2613 | Train AUC: 0.8442\n",
            "Val Loss: 1.1973 | Val AUC: 0.4875\n",
            "Epoch 5 | Train Loss: 0.2610 | Train AUC: 0.8442\n",
            "Val Loss: 1.3483 | Val AUC: 0.5678\n"
          ]
        }
      ]
    },
    {
      "cell_type": "code",
      "source": [
        "from sklearn.metrics import classification_report, confusion_matrix, roc_auc_score\n",
        "\n",
        "def evaluate_test(model, test_loader):\n",
        "    model.eval()  # Set the model to evaluation mode\n",
        "    all_labels = []\n",
        "    all_preds = []\n",
        "    all_probs = []\n",
        "\n",
        "    with torch.no_grad():\n",
        "        for images, tabular_data, labels in test_loader:\n",
        "            images, tabular_data, labels = images.to(device), tabular_data.to(device), labels.to(device)\n",
        "\n",
        "            outputs = model(images, tabular_data)\n",
        "            _, predicted = torch.max(outputs, 1)\n",
        "\n",
        "            all_labels.extend(labels.cpu().numpy())\n",
        "            all_preds.extend(predicted.cpu().numpy())\n",
        "            all_probs.extend(torch.softmax(outputs, dim=1)[:, 1].cpu().numpy())\n",
        "\n",
        "    # Calculate AUC\n",
        "    auc = roc_auc_score(all_labels, all_probs)\n",
        "\n",
        "    # Generate confusion matrix and classification report\n",
        "    conf_mat = confusion_matrix(all_labels, all_preds)\n",
        "    class_report = classification_report(all_labels, all_preds)\n",
        "\n",
        "    print(f\"\\n✅ Test AUC: {auc:.4f}\")\n",
        "    print(f\"\\nConfusion Matrix:\\n{conf_mat}\")\n",
        "    print(f\"\\nClassification Report:\\n{class_report}\")\n"
      ],
      "metadata": {
        "id": "eELMQI9nXiMA"
      },
      "execution_count": null,
      "outputs": []
    },
    {
      "cell_type": "code",
      "source": [
        "# Paths\n",
        "test_csv = \"/content/drive/MyDrive/LUNA25/Test.csv\"\n",
        "test_image_dir = \"/content/Preprocessed_test\"\n",
        "\n",
        "# Dataset & Loader\n",
        "test_dataset = MultiModalNPYDataset(csv_file=test_csv, image_dir=test_image_dir)\n",
        "test_loader = DataLoader(test_dataset, batch_size=32, shuffle=False)\n",
        "\n",
        "# Load trained model\n",
        "model = MultiModalClassifier().to(device)\n",
        "model.load_state_dict(torch.load('/content/best_model.pth'))  # Replace path\n",
        "\n",
        "# Run test evaluation\n",
        "evaluate_test(model, test_loader)\n"
      ],
      "metadata": {
        "colab": {
          "base_uri": "https://localhost:8080/"
        },
        "id": "jzd-Z8hmXj-f",
        "outputId": "c182d452-fde4-4fd5-fd25-66f79a36691e"
      },
      "execution_count": null,
      "outputs": [
        {
          "output_type": "stream",
          "name": "stdout",
          "text": [
            "\n",
            "✅ Test AUC: 0.5056\n",
            "\n",
            "Confusion Matrix:\n",
            "[[   9 1676]\n",
            " [   1  199]]\n",
            "\n",
            "Classification Report:\n",
            "              precision    recall  f1-score   support\n",
            "\n",
            "           0       0.90      0.01      0.01      1685\n",
            "           1       0.11      0.99      0.19       200\n",
            "\n",
            "    accuracy                           0.11      1885\n",
            "   macro avg       0.50      0.50      0.10      1885\n",
            "weighted avg       0.82      0.11      0.03      1885\n",
            "\n"
          ]
        }
      ]
    },
    {
      "cell_type": "code",
      "source": [
        "## focal loss"
      ],
      "metadata": {
        "id": "WUR8uYze5WN0"
      },
      "execution_count": null,
      "outputs": []
    },
    {
      "cell_type": "code",
      "source": [
        "# Load full dataset\n",
        "full_dataset = MultiModalNPYDataset(\n",
        "    csv_file='/content/drive/MyDrive/LUNA25/Train.csv',\n",
        "    image_dir='/content/Preprocessed_train'\n",
        ")\n",
        "\n",
        "# Split\n",
        "train_size = int(0.8 * len(full_dataset))\n",
        "val_size = len(full_dataset) - train_size\n",
        "train_dataset, val_dataset = random_split(full_dataset, [train_size, val_size])\n",
        "\n",
        "# Balanced Sampling\n",
        "labels_list = [sample[2].item() for sample in train_dataset]\n",
        "class_counts = Counter(labels_list)\n",
        "weights = [1.0 / class_counts[label] for label in labels_list]\n",
        "sampler = WeightedRandomSampler(weights, num_samples=len(weights), replacement=True)\n",
        "\n",
        "# Loaders\n",
        "train_loader = DataLoader(train_dataset, batch_size=4, shuffle=True)\n",
        "val_loader = DataLoader(val_dataset, batch_size=32, shuffle=False)"
      ],
      "metadata": {
        "id": "7loRB6SGEcJf"
      },
      "execution_count": null,
      "outputs": []
    },
    {
      "cell_type": "code",
      "source": [
        "import torch\n",
        "import torch.nn as nn\n",
        "\n",
        "class FocalLoss(nn.Module):\n",
        "    def __init__(self, alpha=0.25, gamma=2.0, reduction='mean'):\n",
        "        super(FocalLoss, self).__init__()\n",
        "        self.alpha = alpha\n",
        "        self.gamma = gamma\n",
        "        self.reduction = reduction\n",
        "\n",
        "    def forward(self, inputs, targets):\n",
        "        ce_loss = nn.functional.cross_entropy(inputs, targets, reduction='none')\n",
        "        pt = torch.exp(-ce_loss)\n",
        "        focal_loss = self.alpha * ((1 - pt) ** self.gamma) * ce_loss\n",
        "\n",
        "        if self.reduction == 'mean':\n",
        "            return focal_loss.mean()\n",
        "        elif self.reduction == 'sum':\n",
        "            return focal_loss.sum()\n",
        "        else:\n",
        "            return focal_loss\n"
      ],
      "metadata": {
        "id": "8AzrEN9w5VQ4"
      },
      "execution_count": null,
      "outputs": []
    },
    {
      "cell_type": "code",
      "source": [
        "from sklearn.metrics import roc_auc_score\n",
        "import numpy as np\n",
        "\n",
        "# Loss and optimizer\n",
        "model = MultiModalClassifier().to(device)\n",
        "criterion = FocalLoss(alpha=0.25, gamma=2.0)\n",
        "optimizer = torch.optim.Adam(model.parameters(), lr=1e-4)\n",
        "\n",
        "# Training Loop\n",
        "for epoch in range(1, 5 + 1):\n",
        "    model.train()\n",
        "    train_loss = 0.0\n",
        "    correct = 0\n",
        "    total = 0\n",
        "    y_true_train = []\n",
        "    y_prob_train = []\n",
        "\n",
        "    for images, tabular_data, labels in train_loader:\n",
        "        images, tabular_data, labels = images.to(device), tabular_data.to(device), labels.to(device)\n",
        "        optimizer.zero_grad()\n",
        "\n",
        "        outputs = model(images, tabular_data)\n",
        "        loss = criterion(outputs, labels)\n",
        "        loss.backward()\n",
        "        optimizer.step()\n",
        "\n",
        "        train_loss += loss.item()\n",
        "        _, predicted = torch.max(outputs, 1)\n",
        "        total += labels.size(0)\n",
        "        correct += (predicted == labels).sum().item()\n",
        "\n",
        "        y_true_train.extend(labels.cpu().tolist())\n",
        "        y_prob_train.extend(torch.softmax(outputs, dim=1)[:, 1].detach().cpu().tolist())\n",
        "\n",
        "    train_auc = roc_auc_score(y_true_train, y_prob_train)\n",
        "    train_acc = 100 * correct / total\n",
        "    print(f\"Epoch {epoch} | Train Loss: {train_loss:.4f} | Train Acc: {train_acc:.2f}% | Train AUC: {train_auc:.4f}\")\n",
        "\n",
        "    # --- Validation ---\n",
        "    model.eval()\n",
        "    val_loss = 0.0\n",
        "    val_correct = 0\n",
        "    val_total = 0\n",
        "    y_true_val = []\n",
        "    y_prob_val = []\n",
        "\n",
        "    with torch.no_grad():\n",
        "        for images, tabular_data, labels in val_loader:\n",
        "            images, tabular_data, labels = images.to(device), tabular_data.to(device), labels.to(device)\n",
        "            outputs = model(images, tabular_data)\n",
        "\n",
        "            loss = criterion(outputs, labels)\n",
        "            val_loss += loss.item()\n",
        "            _, predicted = torch.max(outputs, 1)\n",
        "            val_total += labels.size(0)\n",
        "            val_correct += (predicted == labels).sum().item()\n",
        "\n",
        "            y_true_val.extend(labels.cpu().tolist())\n",
        "            y_prob_val.extend(torch.softmax(outputs, dim=1)[:, 1].cpu().tolist())\n",
        "\n",
        "    val_auc = roc_auc_score(y_true_val, y_prob_val)\n",
        "    val_acc = 100 * val_correct / val_total\n",
        "    print(f\"→ Val Loss: {val_loss:.4f} | Val Acc: {val_acc:.2f}% | Val AUC: {val_auc:.4f}\")\n"
      ],
      "metadata": {
        "colab": {
          "base_uri": "https://localhost:8080/"
        },
        "id": "GHWjjx2r5YjM",
        "outputId": "c39f15e7-ef0f-459d-fa40-ee82094a17c2"
      },
      "execution_count": null,
      "outputs": [
        {
          "output_type": "stream",
          "name": "stdout",
          "text": [
            "Epoch 1 | Train Loss: 383.7138 | Train Acc: 77.17% | Train AUC: 0.5502\n",
            "→ Val Loss: 2.2403 | Val Acc: 92.06% | Val AUC: 0.6378\n",
            "Epoch 2 | Train Loss: 163.4483 | Train Acc: 85.09% | Train AUC: 0.5618\n",
            "→ Val Loss: 0.7997 | Val Acc: 90.30% | Val AUC: 0.6430\n",
            "Epoch 3 | Train Loss: 101.0918 | Train Acc: 83.60% | Train AUC: 0.5750\n",
            "→ Val Loss: 0.8556 | Val Acc: 88.79% | Val AUC: 0.6777\n",
            "Epoch 4 | Train Loss: 71.8585 | Train Acc: 83.43% | Train AUC: 0.5704\n",
            "→ Val Loss: 0.9456 | Val Acc: 88.43% | Val AUC: 0.5864\n",
            "Epoch 5 | Train Loss: 50.4472 | Train Acc: 84.39% | Train AUC: 0.5489\n",
            "→ Val Loss: 0.8496 | Val Acc: 91.59% | Val AUC: 0.4509\n"
          ]
        }
      ]
    },
    {
      "cell_type": "code",
      "source": [
        " torch.save(model.state_dict(), \"best_model.pth\")\n"
      ],
      "metadata": {
        "id": "XCobqW_BEFAj"
      },
      "execution_count": null,
      "outputs": []
    },
    {
      "cell_type": "code",
      "source": [
        "# Paths\n",
        "test_csv = \"/content/drive/MyDrive/LUNA25/Test.csv\"\n",
        "test_image_dir = \"/content/Preprocessed_test\"\n",
        "\n",
        "# Dataset & Loader\n",
        "test_dataset = MultiModalNPYDataset(csv_file=test_csv, image_dir=test_image_dir)\n",
        "test_loader = DataLoader(test_dataset, batch_size=32, shuffle=False)\n",
        "\n",
        "# Load trained model\n",
        "model = MultiModalClassifier().to(device)\n",
        "model.load_state_dict(torch.load('/content/best_model.pth'))  # Replace path\n",
        "\n",
        "# Run test evaluation\n",
        "evaluate_test(model, test_loader)"
      ],
      "metadata": {
        "colab": {
          "base_uri": "https://localhost:8080/"
        },
        "id": "rOreIuWU5u_m",
        "outputId": "4a2272a9-85b4-4904-ffbd-81e4f34e3bf6"
      },
      "execution_count": null,
      "outputs": [
        {
          "output_type": "stream",
          "name": "stdout",
          "text": [
            "\n",
            "✅ Test AUC: 0.4667\n",
            "\n",
            "Confusion Matrix:\n",
            "[[1685    0]\n",
            " [ 200    0]]\n",
            "\n",
            "Classification Report:\n",
            "              precision    recall  f1-score   support\n",
            "\n",
            "           0       0.89      1.00      0.94      1685\n",
            "           1       0.00      0.00      0.00       200\n",
            "\n",
            "    accuracy                           0.89      1885\n",
            "   macro avg       0.45      0.50      0.47      1885\n",
            "weighted avg       0.80      0.89      0.84      1885\n",
            "\n"
          ]
        },
        {
          "output_type": "stream",
          "name": "stderr",
          "text": [
            "/usr/local/lib/python3.11/dist-packages/sklearn/metrics/_classification.py:1565: UndefinedMetricWarning: Precision is ill-defined and being set to 0.0 in labels with no predicted samples. Use `zero_division` parameter to control this behavior.\n",
            "  _warn_prf(average, modifier, f\"{metric.capitalize()} is\", len(result))\n",
            "/usr/local/lib/python3.11/dist-packages/sklearn/metrics/_classification.py:1565: UndefinedMetricWarning: Precision is ill-defined and being set to 0.0 in labels with no predicted samples. Use `zero_division` parameter to control this behavior.\n",
            "  _warn_prf(average, modifier, f\"{metric.capitalize()} is\", len(result))\n",
            "/usr/local/lib/python3.11/dist-packages/sklearn/metrics/_classification.py:1565: UndefinedMetricWarning: Precision is ill-defined and being set to 0.0 in labels with no predicted samples. Use `zero_division` parameter to control this behavior.\n",
            "  _warn_prf(average, modifier, f\"{metric.capitalize()} is\", len(result))\n"
          ]
        }
      ]
    },
    {
      "cell_type": "code",
      "source": [
        "### k fold"
      ],
      "metadata": {
        "id": "4YSRHVMmXmB2"
      },
      "execution_count": null,
      "outputs": []
    },
    {
      "cell_type": "code",
      "source": [
        "from torch.utils.data import DataLoader, random_split, WeightedRandomSampler\n",
        "import torch\n",
        "import numpy as np\n",
        "\n",
        "# Define the MultiModalClassifier (assuming you already have this model class)\n",
        "model = MultiModalClassifier()\n",
        "\n",
        "# Prepare the full dataset\n",
        "full_dataset = MultiModalNPYDataset(csv_file='/content/drive/MyDrive/LUNA25/Train.csv',\n",
        "                                    image_dir='/content/Preprocessed_train')\n",
        "\n",
        "# Split the dataset into training and validation sets\n",
        "val_ratio = 0.2\n",
        "val_size = int(len(full_dataset) * val_ratio)\n",
        "train_size = len(full_dataset) - val_size\n",
        "train_dataset, val_dataset = random_split(full_dataset, [train_size, val_size], generator=torch.Generator().manual_seed(42))\n",
        "\n",
        "# Balanced Sampling\n",
        "labels_list = [train_dataset[i][2].item() for i in range(len(train_dataset))]\n",
        "class_counts = np.bincount(labels_list)\n",
        "weights = [1.0 / class_counts[label] for label in labels_list]\n",
        "sampler = WeightedRandomSampler(weights, num_samples=len(weights), replacement=True)\n",
        "\n",
        "# DataLoaders\n",
        "train_loader = DataLoader(train_dataset, batch_size=16, sampler=sampler)\n",
        "val_loader = DataLoader(val_dataset, batch_size=32, shuffle=False)\n",
        "\n",
        "# Initialize the model\n",
        "model = MultiModalClassifier().to(device)  # Ensure you move the model to GPU if necessary\n",
        "\n",
        "# Define optimizer and loss function\n",
        "optimizer = torch.optim.Adam(model.parameters(), lr=1e-4)\n",
        "criterion = torch.nn.CrossEntropyLoss()\n",
        "\n",
        "# Training loop\n",
        "for epoch in range(1, 11):  # Example: 10 epochs\n",
        "    model.train()\n",
        "    running_loss = 0.0\n",
        "    correct = 0\n",
        "    total = 0\n",
        "\n",
        "    for images, tabular_data, labels in train_loader:\n",
        "        images, tabular_data, labels = images.to(device), tabular_data.to(device), labels.to(device)\n",
        "\n",
        "        # Zero gradients\n",
        "        optimizer.zero_grad()\n",
        "\n",
        "        # Forward pass\n",
        "        outputs = model(images, tabular_data)\n",
        "\n",
        "        # Compute loss\n",
        "        loss = criterion(outputs, labels)\n",
        "        loss.backward()\n",
        "\n",
        "        # Update weights\n",
        "        optimizer.step()\n",
        "\n",
        "        # Accumulate statistics\n",
        "        running_loss += loss.item()\n",
        "        _, predicted = torch.max(outputs, 1)\n",
        "        total += labels.size(0)\n",
        "        correct += (predicted == labels).sum().item()\n",
        "\n",
        "    # Print training statistics\n",
        "    epoch_loss = running_loss / len(train_loader)\n",
        "    epoch_acc = 100 * correct / total\n",
        "    print(f\"Epoch {epoch}, Loss: {epoch_loss:.4f}, Accuracy: {epoch_acc:.2f}%\")\n",
        "\n",
        "    # Validate the model after each epoch\n",
        "    model.eval()\n",
        "    val_loss = 0.0\n",
        "    val_correct = 0\n",
        "    val_total = 0\n",
        "\n",
        "    with torch.no_grad():\n",
        "        for images, tabular_data, labels in val_loader:\n",
        "            images, tabular_data, labels = images.to(device), tabular_data.to(device), labels.to(device)\n",
        "\n",
        "            outputs = model(images, tabular_data)\n",
        "            loss = criterion(outputs, labels)\n",
        "\n",
        "            val_loss += loss.item()\n",
        "            _, predicted = torch.max(outputs, 1)\n",
        "            val_total += labels.size(0)\n",
        "            val_correct += (predicted == labels).sum().item()\n",
        "\n",
        "    # Print validation statistics\n",
        "    val_epoch_loss = val_loss / len(val_loader)\n",
        "    val_epoch_acc = 100 * val_correct / val_total\n",
        "    print(f\"Validation Loss: {val_epoch_loss:.4f}, Accuracy: {val_epoch_acc:.2f}%\\n\")\n"
      ],
      "metadata": {
        "colab": {
          "base_uri": "https://localhost:8080/"
        },
        "id": "8unTgoX2zXG9",
        "outputId": "30b4d74f-f500-41c3-d762-4618ba58004c"
      },
      "execution_count": null,
      "outputs": [
        {
          "output_type": "stream",
          "name": "stdout",
          "text": [
            "Epoch 1, Loss: 1.2066, Accuracy: 54.82%\n",
            "Validation Loss: 0.5451, Accuracy: 70.18%\n",
            "\n",
            "Epoch 2, Loss: 0.8686, Accuracy: 60.72%\n",
            "Validation Loss: 0.5074, Accuracy: 66.90%\n",
            "\n",
            "Epoch 3, Loss: 0.7552, Accuracy: 66.48%\n",
            "Validation Loss: 0.4760, Accuracy: 69.01%\n",
            "\n",
            "Epoch 4, Loss: 0.6102, Accuracy: 69.70%\n",
            "Validation Loss: 0.4466, Accuracy: 70.76%\n",
            "\n",
            "Epoch 5, Loss: 0.5610, Accuracy: 73.50%\n",
            "Validation Loss: 0.4681, Accuracy: 67.25%\n",
            "\n",
            "Epoch 6, Loss: 0.5019, Accuracy: 76.42%\n",
            "Validation Loss: 0.4036, Accuracy: 74.27%\n",
            "\n",
            "Epoch 7, Loss: 0.4060, Accuracy: 81.88%\n",
            "Validation Loss: 0.3579, Accuracy: 80.12%\n",
            "\n",
            "Epoch 8, Loss: 0.3624, Accuracy: 83.52%\n",
            "Validation Loss: 0.3437, Accuracy: 82.34%\n",
            "\n",
            "Epoch 9, Loss: 0.2756, Accuracy: 88.40%\n",
            "Validation Loss: 0.3911, Accuracy: 80.70%\n",
            "\n",
            "Epoch 10, Loss: 0.2683, Accuracy: 89.68%\n",
            "Validation Loss: 0.3092, Accuracy: 86.20%\n",
            "\n"
          ]
        }
      ]
    },
    {
      "cell_type": "code",
      "source": [
        "# Assuming you have a separate test dataset:\n",
        "test_dataset = MultiModalNPYDataset(csv_file='/content/drive/MyDrive/LUNA25/Test.csv', image_dir='/content/Preprocessed_test')\n",
        "\n",
        "# Create DataLoader for the test set\n",
        "test_loader = DataLoader(test_dataset, batch_size=32, shuffle=False)\n",
        "\n",
        "# After training with K-Fold cross-validation, evaluate the model on the test set\n",
        "model.eval()  # Set the model to evaluation mode\n",
        "\n",
        "test_loss = 0.0\n",
        "test_correct = 0\n",
        "test_total = 0\n",
        "\n",
        "with torch.no_grad():  # No need to track gradients during testing\n",
        "    for images, tabular_data, labels in test_loader:\n",
        "        images, tabular_data, labels = images.to(device), tabular_data.to(device), labels.to(device)\n",
        "\n",
        "        # Forward pass: Get model predictions\n",
        "        outputs = model(images, tabular_data)\n",
        "\n",
        "        # Compute loss\n",
        "        loss = criterion(outputs, labels)\n",
        "        test_loss += loss.item()\n",
        "\n",
        "        # Get predictions and calculate accuracy\n",
        "        _, predicted = torch.max(outputs, 1)\n",
        "        test_total += labels.size(0)\n",
        "        test_correct += (predicted == labels).sum().item()\n",
        "\n",
        "# Final Test Set Evaluation\n",
        "test_epoch_loss = test_loss / len(test_loader)\n",
        "test_epoch_acc = 100 * test_correct / test_total\n",
        "\n",
        "print(f\"Test Loss: {test_epoch_loss:.4f}, Test Accuracy: {test_epoch_acc:.2f}%\")\n"
      ],
      "metadata": {
        "colab": {
          "base_uri": "https://localhost:8080/"
        },
        "id": "twH8tsFrzais",
        "outputId": "60fba595-88c2-4192-82ce-62e4357c6326"
      },
      "execution_count": null,
      "outputs": [
        {
          "output_type": "stream",
          "name": "stdout",
          "text": [
            "Test Loss: 2.2266, Test Accuracy: 83.61%\n"
          ]
        }
      ]
    },
    {
      "cell_type": "code",
      "source": [
        "from sklearn.metrics import confusion_matrix, roc_auc_score, roc_curve, auc\n",
        "import seaborn as sns\n",
        "import matplotlib.pyplot as plt\n",
        "\n",
        "# Assuming you already have a trained model and test_loader\n",
        "model.eval()  # Set the model to evaluation mode\n",
        "\n",
        "y_true = []  # Ground truth labels\n",
        "y_pred = []  # Model predictions\n",
        "y_probs = []  # Probabilities for ROC-AUC\n",
        "\n",
        "test_loss = 0.0\n",
        "test_correct = 0\n",
        "test_total = 0\n",
        "\n",
        "# Iterate over test data\n",
        "with torch.no_grad():\n",
        "    for images, tabular_data, labels in test_loader:\n",
        "        images, tabular_data, labels = images.to(device), tabular_data.to(device), labels.to(device)\n",
        "\n",
        "        # Forward pass: Get model predictions\n",
        "        outputs = model(images, tabular_data)\n",
        "\n",
        "        # Compute loss\n",
        "        loss = criterion(outputs, labels)\n",
        "        test_loss += loss.item()\n",
        "\n",
        "        # Get predictions and probabilities\n",
        "        _, predicted = torch.max(outputs, 1)\n",
        "        prob = torch.softmax(outputs, dim=1)[:, 1]  # Probabilities for the positive class (class 1)\n",
        "\n",
        "        # Accumulate statistics\n",
        "        y_true.extend(labels.cpu().numpy())\n",
        "        y_pred.extend(predicted.cpu().numpy())\n",
        "        y_probs.extend(prob.cpu().numpy())\n",
        "\n",
        "        # Calculate accuracy\n",
        "        test_total += labels.size(0)\n",
        "        test_correct += (predicted == labels).sum().item()\n",
        "\n",
        "# Calculate test metrics\n",
        "test_epoch_loss = test_loss / len(test_loader)\n",
        "test_epoch_acc = 100 * test_correct / test_total\n",
        "\n",
        "# Print Test Loss and Accuracy\n",
        "print(f\"Test Loss: {test_epoch_loss:.4f}, Test Accuracy: {test_epoch_acc:.2f}%\")\n"
      ],
      "metadata": {
        "colab": {
          "base_uri": "https://localhost:8080/"
        },
        "id": "722ptXsjz4ps",
        "outputId": "f6f90cf1-bc29-4e56-bb5b-009ab0f08f43"
      },
      "execution_count": null,
      "outputs": [
        {
          "output_type": "stream",
          "name": "stdout",
          "text": [
            "Test Loss: 2.2266, Test Accuracy: 83.61%\n"
          ]
        }
      ]
    },
    {
      "cell_type": "code",
      "source": [
        "\n",
        "# Confusion Matrix\n",
        "cm = confusion_matrix(y_true, y_pred)\n",
        "print(cm)\n",
        "\n",
        "\n",
        "# AUC (ROC Curve)\n",
        "fpr, tpr, _ = roc_curve(y_true, y_probs)\n",
        "roc_auc = auc(fpr, tpr)\n",
        "\n",
        "# Plot ROC Curve\n",
        "plt.figure(figsize=(6, 6))\n",
        "plt.plot(fpr, tpr, color='darkorange', lw=2, label='ROC curve (area = %0.2f)' % roc_auc)\n",
        "plt.plot([0, 1], [0, 1], color='navy', lw=2, linestyle='--')\n",
        "plt.xlim([0.0, 1.0])\n",
        "plt.ylim([0.0, 1.05])\n",
        "plt.xlabel('False Positive Rate')\n",
        "plt.ylabel('True Positive Rate')\n",
        "plt.title('Receiver Operating Characteristic (ROC) Curve')\n",
        "plt.legend(loc='lower right')\n",
        "plt.show()\n",
        "\n",
        "# Print AUC Score\n",
        "print(f\"AUC Score: {roc_auc:.4f}\")\n"
      ],
      "metadata": {
        "colab": {
          "base_uri": "https://localhost:8080/",
          "height": 619
        },
        "id": "QkzhOgRm1QKq",
        "outputId": "5fa2db61-42f0-4ce8-bfe1-c0bc4ced2fa3"
      },
      "execution_count": null,
      "outputs": [
        {
          "output_type": "stream",
          "name": "stdout",
          "text": [
            "[[1518  167]\n",
            " [ 142   58]]\n"
          ]
        },
        {
          "output_type": "display_data",
          "data": {
            "text/plain": [
              "<Figure size 600x600 with 1 Axes>"
            ],
            "image/png": "[encoded data removed]"
          },
          "metadata": {}
        },
        {
          "output_type": "stream",
          "name": "stdout",
          "text": [
            "AUC Score: 0.6870\n"
          ]
        }
      ]
    },
    {
      "cell_type": "code",
      "source": [
        "import torch\n",
        "from torch import nn\n",
        "import torch.optim as optim\n",
        "from sklearn.metrics import roc_auc_score\n",
        "import numpy as np\n",
        "\n",
        "# Example of Weighted Cross-Entropy Loss\n",
        "class_weights = torch.tensor([1.0, 3.0]).to(device)  # Adjust weights based on class imbalance\n",
        "criterion = nn.CrossEntropyLoss(weight=class_weights)\n",
        "\n",
        "# Optimizer\n",
        "optimizer = optim.Adam(model.parameters(), lr=1e-4)\n",
        "\n",
        "# Training Loop with Weighted Loss\n",
        "for epoch in range(1, 10 + 1):\n",
        "    model.train()\n",
        "    running_loss = 0.0\n",
        "    correct = 0\n",
        "    total = 0\n",
        "    y_true_train = []  # Ground truth labels for training\n",
        "    y_prob_train = []  # Probabilities for ROC-AUC in training\n",
        "\n",
        "    # Training phase\n",
        "    for images, tabular_data, labels in train_loader:\n",
        "        images, tabular_data, labels = images.to(device), tabular_data.to(device), labels.to(device)\n",
        "\n",
        "        optimizer.zero_grad()\n",
        "\n",
        "        # Forward pass\n",
        "        outputs = model(images, tabular_data)\n",
        "\n",
        "        # Compute loss\n",
        "        loss = criterion(outputs, labels)\n",
        "        loss.backward()\n",
        "        optimizer.step()\n",
        "\n",
        "        # Accumulate statistics for training\n",
        "        running_loss += loss.item()\n",
        "        _, predicted = torch.max(outputs, 1)\n",
        "        total += labels.size(0)\n",
        "        correct += (predicted == labels).sum().item()\n",
        "\n",
        "        # Store true labels and predicted probabilities for AUC calculation\n",
        "        y_true_train.extend(labels.cpu().tolist())\n",
        "        y_prob_train.extend(torch.softmax(outputs, dim=1)[:, 1].cpu().tolist())  # Probabilities for class 1\n",
        "\n",
        "    # Calculate training AUC\n",
        "    train_auc = roc_auc_score(y_true_train, y_prob_train)\n",
        "\n",
        "    # Calculate training loss and accuracy\n",
        "    epoch_loss = running_loss / len(train_loader)\n",
        "    epoch_acc = 100 * correct / total\n",
        "\n",
        "    print(f\"Epoch {epoch}, Training Loss: {epoch_loss:.4f}, Training Accuracy: {epoch_acc:.2f}%, Training AUC: {train_auc:.4f}\")\n",
        "\n",
        "    # Validation phase\n",
        "    model.eval()  # Set model to evaluation mode\n",
        "    val_loss = 0.0\n",
        "    val_correct = 0\n",
        "    val_total = 0\n",
        "    y_true_val = []  # Ground truth labels for validation\n",
        "    y_prob_val = []  # Probabilities for ROC-AUC in validation\n",
        "\n",
        "    with torch.no_grad():\n",
        "        for images, tabular_data, labels in val_loader:\n",
        "            images, tabular_data, labels = images.to(device), tabular_data.to(device), labels.to(device)\n",
        "\n",
        "            # Forward pass\n",
        "            outputs = model(images, tabular_data)\n",
        "\n",
        "            # Compute loss\n",
        "            loss = criterion(outputs, labels)\n",
        "            val_loss += loss.item()\n",
        "\n",
        "            # Get predictions\n",
        "            _, predicted = torch.max(outputs, 1)\n",
        "            val_total += labels.size(0)\n",
        "            val_correct += (predicted == labels).sum().item()\n",
        "\n",
        "            # Store true labels and predicted probabilities for AUC calculation\n",
        "            y_true_val.extend(labels.cpu().tolist())\n",
        "            y_prob_val.extend(torch.softmax(outputs, dim=1)[:, 1].cpu().tolist())  # Probabilities for class 1\n",
        "\n",
        "    # Calculate validation AUC\n",
        "    val_auc = roc_auc_score(y_true_val, y_prob_val)\n",
        "\n",
        "    # Calculate validation loss and accuracy\n",
        "    val_epoch_loss = val_loss / len(val_loader)\n",
        "    val_epoch_acc = 100 * val_correct / val_total\n",
        "\n",
        "    print(f\"Epoch {epoch}, Validation Loss: {val_epoch_loss:.4f}, Validation Accuracy: {val_epoch_acc:.2f}%, Validation AUC: {val_auc:.4f}\")\n"
      ],
      "metadata": {
        "colab": {
          "base_uri": "https://localhost:8080/"
        },
        "id": "-FFfrwj-0DSE",
        "outputId": "939a0a09-7518-428c-a63a-0967700d452f"
      },
      "execution_count": null,
      "outputs": [
        {
          "output_type": "stream",
          "name": "stdout",
          "text": [
            "Epoch 1, Training Loss: 0.0597, Training Accuracy: 97.95%, Training AUC: 0.9961\n",
            "Epoch 1, Validation Loss: 0.8268, Validation Accuracy: 86.90%, Validation AUC: 0.8452\n",
            "Epoch 2, Training Loss: 0.0311, Training Accuracy: 98.48%, Training AUC: 0.9988\n",
            "Epoch 2, Validation Loss: 1.1390, Validation Accuracy: 91.35%, Validation AUC: 0.8443\n",
            "Epoch 3, Training Loss: 0.0337, Training Accuracy: 98.89%, Training AUC: 0.9983\n",
            "Epoch 3, Validation Loss: 1.0408, Validation Accuracy: 90.53%, Validation AUC: 0.8602\n",
            "Epoch 4, Training Loss: 0.0286, Training Accuracy: 98.89%, Training AUC: 0.9990\n",
            "Epoch 4, Validation Loss: 1.0911, Validation Accuracy: 90.53%, Validation AUC: 0.8556\n",
            "Epoch 5, Training Loss: 0.0399, Training Accuracy: 98.48%, Training AUC: 0.9981\n",
            "Epoch 5, Validation Loss: 1.1113, Validation Accuracy: 89.94%, Validation AUC: 0.8458\n",
            "Epoch 6, Training Loss: 0.0212, Training Accuracy: 99.04%, Training AUC: 0.9993\n",
            "Epoch 6, Validation Loss: 1.1019, Validation Accuracy: 92.16%, Validation AUC: 0.8588\n",
            "Epoch 7, Training Loss: 0.0168, Training Accuracy: 99.33%, Training AUC: 0.9997\n",
            "Epoch 7, Validation Loss: 1.1757, Validation Accuracy: 90.76%, Validation AUC: 0.8494\n",
            "Epoch 8, Training Loss: 0.0220, Training Accuracy: 99.18%, Training AUC: 0.9991\n",
            "Epoch 8, Validation Loss: 1.1019, Validation Accuracy: 92.05%, Validation AUC: 0.8515\n",
            "Epoch 9, Training Loss: 0.0217, Training Accuracy: 99.09%, Training AUC: 0.9993\n",
            "Epoch 9, Validation Loss: 1.0914, Validation Accuracy: 93.33%, Validation AUC: 0.8604\n",
            "Epoch 10, Training Loss: 0.0246, Training Accuracy: 99.04%, Training AUC: 0.9992\n",
            "Epoch 10, Validation Loss: 0.9736, Validation Accuracy: 86.78%, Validation AUC: 0.8503\n"
          ]
        }
      ]
    },
    {
      "cell_type": "code",
      "source": [],
      "metadata": {
        "id": "q4UHYh111vx1"
      },
      "execution_count": null,
      "outputs": []
    }
  ]
}